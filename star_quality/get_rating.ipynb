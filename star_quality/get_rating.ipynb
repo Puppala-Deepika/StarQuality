{
 "cells": [
  {
   "cell_type": "code",
   "execution_count": 1,
   "metadata": {},
   "outputs": [],
   "source": [
    "import json\n",
    "from pprint import pprint \n",
    "data = []\n",
    "with open('reviews_Patio_Lawn_and_Garden.json') as f:\n",
    "    for line in f:\n",
    "        data.append(json.loads(line))"
   ]
  },
  {
   "cell_type": "code",
   "execution_count": 2,
   "metadata": {},
   "outputs": [],
   "source": [
    "import numpy as np\n",
    "yu = data[0].keys()\n",
    "\n",
    "dt = list()\n",
    "for l in data:\n",
    "\tlst = []\n",
    "\tfor k in [yu[0], yu[1], yu[3], yu[5]]:\n",
    "\t\tlst.append(str(l[k]))\n",
    "\tdt.append(lst)\n",
    "\n",
    "dt = np.array(dt)"
   ]
  },
  {
   "cell_type": "code",
   "execution_count": 3,
   "metadata": {
    "scrolled": true
   },
   "outputs": [
    {
     "name": "stdout",
     "output_type": "stream",
     "text": [
      "[[6, 7], [0, 0], [9, 11], [1, 1], [2, 2], [6, 8], [0, 0], [1, 6], [1, 1], [15, 16]]\n"
     ]
    }
   ],
   "source": [
    "import ast\n",
    "helpful_likes = []\n",
    "for i in dt:\n",
    "    helpful_likes.append(ast.literal_eval(i[2]))\n",
    "print helpful_likes[:10]\n",
    "\n",
    "weighted_scores = []\n",
    "weights = []\n",
    "for i in range(len(helpful_likes)):\n",
    "    rating = float(dt[i][3])\n",
    "    upvotes = helpful_likes[i][0]\n",
    "    total_votes = helpful_likes[i][1]\n",
    "    downvotes = total_votes - upvotes\n",
    "    weighted_rating = ((1+upvotes)*rating + downvotes*(6-rating))/(1+total_votes)\n",
    "    weighted_scores.append(weighted_rating)\n",
    "    weights.append(abs(upvotes+1 - downvotes))"
   ]
  },
  {
   "cell_type": "code",
   "execution_count": 5,
   "metadata": {},
   "outputs": [
    {
     "name": "stdout",
     "output_type": "stream",
     "text": [
      "(105984,)\n",
      "3.0\n"
     ]
    }
   ],
   "source": [
    "import numpy as np\n",
    "ratings = dt[:,3]\n",
    "ratings = np.array(ratings, dtype = np.float32)\n",
    "print(np.unique(dt[:,1]).shape)\t\t\t# no of products\n",
    "\n",
    "weights = np.array(weights, dtype = np.float32)\n",
    "a = np.asarray([1,2,3,4])\n",
    "w = np.asarray([1,2,3,4])\n",
    "print np.average(a,weights=w)\n",
    "\n",
    "out = open('weighted_mean_PLG.csv', 'w')\t\t\t\t# Statistical model 1 : Avg rating\n",
    "for each_product in np.unique(dt[:,1]):\n",
    "    product_set = ratings[dt[:,1] == each_product]\n",
    "    w = weights[dt[:,1] == each_product]\n",
    "    if sum(w)>0:\n",
    "        out.write(each_product)\n",
    "        out.write(';')\n",
    "        out.write(str(np.average(product_set, weights = w)))\n",
    "        out.write('\\n')\n",
    "out.close()\n"
   ]
  },
  {
   "cell_type": "code",
   "execution_count": 14,
   "metadata": {},
   "outputs": [
    {
     "name": "stdout",
     "output_type": "stream",
     "text": [
      "993490\n",
      "3\n",
      "993460\n",
      "3\n",
      "the accuaracy using the average method: 0.711111111111\n"
     ]
    }
   ],
   "source": [
    "import csv\n",
    "import numpy as np\n",
    "import math\n",
    "import collections\n",
    "\n",
    "\n",
    "from random import shuffle\n",
    "from itertools import combinations\n",
    "import random\n",
    "\n",
    "n = 100\n",
    "k = 10\n",
    "uni , count = np.unique(dt[:,0],return_counts=True)\n",
    "yu = uni[count>=n]\n",
    "test_data = []\n",
    "test_set = []\n",
    "test_labels = []\n",
    "training_data = dt\n",
    "print len(training_data)\n",
    "print len(yu)\n",
    "j = 0 \n",
    "for i in yu:\n",
    "    indices = np.array([i1 for i1, x in enumerate(training_data[:,0]) if x == i])\n",
    "    shuffle(indices)\n",
    "    k_indices = combinations(indices[0:k],2)\n",
    "    kl = []\n",
    "    for n in k_indices:\n",
    "    \tkl.append(n)\n",
    "    shuffle(kl)\n",
    "    kl = kl[0:(k*k-3)]\n",
    "    tl = []\n",
    "    ts = []\n",
    "    for n in kl:\n",
    "    \tif float(training_data[n[0]][3]) > float(training_data[n[1]][3]):\n",
    "        \ttl.append(training_data[n[0]][1])\n",
    "        else:\n",
    "        \ttl.append(training_data[n[1]][1])\n",
    "        ts.append([training_data[n[0]][1],training_data[n[1]][1]])\n",
    "    test_labels.append(tl)\n",
    "    test_set.append(ts)\n",
    "    training_data = np.delete(training_data,indices[0:k],0)\n",
    "print len(training_data) \n",
    "print len(test_set)\n",
    "\n",
    "def loadClass2(filename):\t\t\t\t\t\t\t#to load data from predicted ratings file\n",
    "\twith open(filename, 'r') as f:\n",
    "\t\tprod = []\n",
    "\t\tprod_mean = []\n",
    "\t\tfor x in f.readlines():\n",
    "\t\t\ttmp = x.split('\\n')\n",
    "\t\t\tdata = tmp[0].split(';')\n",
    "\t\t\tprod.append(data[0])\n",
    "\t\t\tprod_mean.append(data[1])\n",
    "\t\treturn prod,prod_mean\n",
    "\n",
    "products, prod_means = loadClass2('weighted_mean_PLG.csv')\n",
    "\n",
    "predicted = []\n",
    "for n in test_set:\n",
    "    p = []\n",
    "    for n1 in n:\n",
    "        ks1 = products.index(n1[0])\n",
    "        k1 = prod_means[ks1]\n",
    "        ks2 = products.index(n1[1])\n",
    "        k2 = prod_means[ks2]\n",
    "        if float(k1) > float(k2):\n",
    "        \tp.append(n1[0])\n",
    "        else:\n",
    "        \tp.append(n1[1])\n",
    "    predicted.append(p)  \n",
    "    \n",
    "user = []\t\t\t\t\t\t\t\t\t#to calculate accuracy\n",
    "count = 0\n",
    "count2 = 0\n",
    "for i in range(0,len(test_set)):\n",
    "    for j in range(0,len(test_set[i])):\n",
    "    \tcount2 = count2+1\n",
    "        if str(predicted[i][j]) == str(test_labels[i][j]):\n",
    "            count = count+1\n",
    "print \"the accuaracy using the average method:\",(1.0 * count / count2)      "
   ]
  },
  {
   "cell_type": "code",
   "execution_count": null,
   "metadata": {
    "collapsed": true
   },
   "outputs": [],
   "source": []
  }
 ],
 "metadata": {
  "kernelspec": {
   "display_name": "Python 2",
   "language": "python",
   "name": "python2"
  },
  "language_info": {
   "codemirror_mode": {
    "name": "ipython",
    "version": 2
   },
   "file_extension": ".py",
   "mimetype": "text/x-python",
   "name": "python",
   "nbconvert_exporter": "python",
   "pygments_lexer": "ipython2",
   "version": "2.7.12"
  }
 },
 "nbformat": 4,
 "nbformat_minor": 2
}
